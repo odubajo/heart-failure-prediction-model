{
 "cells": [
  {
   "cell_type": "markdown",
   "id": "abea73d5",
   "metadata": {},
   "source": [
    "# Project: Heart Disease Classification\n",
    "\n",
    "By: odubajo abdul qoyyum\n",
    "\n",
    "\n",
    "This notebook covers:\n",
    "- Loading the data\n",
    "- Data  assessing\n",
    "- Feature Engineering and Outlier detection\n",
    "- Simple EDA\n",
    "- Feature scaling\n",
    "- Creating two  models"
   ]
  },
  {
   "cell_type": "markdown",
   "id": "51691a0a",
   "metadata": {},
   "source": [
    "### Importing libraries"
   ]
  },
  {
   "cell_type": "code",
   "execution_count": 1,
   "id": "51e23814",
   "metadata": {},
   "outputs": [],
   "source": [
    "# dataframe and plotting\n",
    "import pandas as pd\n",
    "import numpy as np\n",
    "import seaborn as sns\n",
    "import matplotlib.pyplot as plt\n",
    "\n",
    "# machine learning\n",
    "from sklearn.metrics import accuracy_score, classification_report\n",
    "from sklearn.linear_model import LogisticRegression\n",
    "from sklearn.svm import SVC\n",
    "\n",
    "#preprocessing module\n",
    "from sklearn.impute import SimpleImputer\n",
    "from sklearn.pipeline import Pipeline\n",
    "from sklearn.model_selection import train_test_split ,StratifiedKFold,GridSearchCV\n",
    "\n",
    "##feature Scaling\n",
    "from sklearn.preprocessing import StandardScaler\n",
    "\n",
    "## feature selection\n",
    "from sklearn.decomposition import PCA\n",
    "\n",
    "import warnings\n",
    "warnings.filterwarnings('ignore')"
   ]
  },
  {
   "cell_type": "markdown",
   "id": "7f48b8dd",
   "metadata": {},
   "source": [
    "###  Load the dataset"
   ]
  },
  {
   "cell_type": "code",
   "execution_count": 2,
   "id": "ecd3f192",
   "metadata": {},
   "outputs": [
    {
     "data": {
      "text/html": [
       "<div>\n",
       "<style scoped>\n",
       "    .dataframe tbody tr th:only-of-type {\n",
       "        vertical-align: middle;\n",
       "    }\n",
       "\n",
       "    .dataframe tbody tr th {\n",
       "        vertical-align: top;\n",
       "    }\n",
       "\n",
       "    .dataframe thead th {\n",
       "        text-align: right;\n",
       "    }\n",
       "</style>\n",
       "<table border=\"1\" class=\"dataframe\">\n",
       "  <thead>\n",
       "    <tr style=\"text-align: right;\">\n",
       "      <th></th>\n",
       "      <th>Age</th>\n",
       "      <th>Sex</th>\n",
       "      <th>ChestPainType</th>\n",
       "      <th>RestingBP</th>\n",
       "      <th>Cholesterol</th>\n",
       "      <th>FastingBS</th>\n",
       "      <th>RestingECG</th>\n",
       "      <th>MaxHR</th>\n",
       "      <th>ExerciseAngina</th>\n",
       "      <th>Oldpeak</th>\n",
       "      <th>ST_Slope</th>\n",
       "      <th>HeartDisease</th>\n",
       "    </tr>\n",
       "  </thead>\n",
       "  <tbody>\n",
       "    <tr>\n",
       "      <th>0</th>\n",
       "      <td>40</td>\n",
       "      <td>M</td>\n",
       "      <td>ATA</td>\n",
       "      <td>140</td>\n",
       "      <td>289</td>\n",
       "      <td>0</td>\n",
       "      <td>Normal</td>\n",
       "      <td>172</td>\n",
       "      <td>N</td>\n",
       "      <td>0.0</td>\n",
       "      <td>Up</td>\n",
       "      <td>0</td>\n",
       "    </tr>\n",
       "    <tr>\n",
       "      <th>1</th>\n",
       "      <td>49</td>\n",
       "      <td>F</td>\n",
       "      <td>NAP</td>\n",
       "      <td>160</td>\n",
       "      <td>180</td>\n",
       "      <td>0</td>\n",
       "      <td>Normal</td>\n",
       "      <td>156</td>\n",
       "      <td>N</td>\n",
       "      <td>1.0</td>\n",
       "      <td>Flat</td>\n",
       "      <td>1</td>\n",
       "    </tr>\n",
       "    <tr>\n",
       "      <th>2</th>\n",
       "      <td>37</td>\n",
       "      <td>M</td>\n",
       "      <td>ATA</td>\n",
       "      <td>130</td>\n",
       "      <td>283</td>\n",
       "      <td>0</td>\n",
       "      <td>ST</td>\n",
       "      <td>98</td>\n",
       "      <td>N</td>\n",
       "      <td>0.0</td>\n",
       "      <td>Up</td>\n",
       "      <td>0</td>\n",
       "    </tr>\n",
       "    <tr>\n",
       "      <th>3</th>\n",
       "      <td>48</td>\n",
       "      <td>F</td>\n",
       "      <td>ASY</td>\n",
       "      <td>138</td>\n",
       "      <td>214</td>\n",
       "      <td>0</td>\n",
       "      <td>Normal</td>\n",
       "      <td>108</td>\n",
       "      <td>Y</td>\n",
       "      <td>1.5</td>\n",
       "      <td>Flat</td>\n",
       "      <td>1</td>\n",
       "    </tr>\n",
       "    <tr>\n",
       "      <th>4</th>\n",
       "      <td>54</td>\n",
       "      <td>M</td>\n",
       "      <td>NAP</td>\n",
       "      <td>150</td>\n",
       "      <td>195</td>\n",
       "      <td>0</td>\n",
       "      <td>Normal</td>\n",
       "      <td>122</td>\n",
       "      <td>N</td>\n",
       "      <td>0.0</td>\n",
       "      <td>Up</td>\n",
       "      <td>0</td>\n",
       "    </tr>\n",
       "  </tbody>\n",
       "</table>\n",
       "</div>"
      ],
      "text/plain": [
       "   Age Sex ChestPainType  RestingBP  Cholesterol  FastingBS RestingECG  MaxHR  \\\n",
       "0   40   M           ATA        140          289          0     Normal    172   \n",
       "1   49   F           NAP        160          180          0     Normal    156   \n",
       "2   37   M           ATA        130          283          0         ST     98   \n",
       "3   48   F           ASY        138          214          0     Normal    108   \n",
       "4   54   M           NAP        150          195          0     Normal    122   \n",
       "\n",
       "  ExerciseAngina  Oldpeak ST_Slope  HeartDisease  \n",
       "0              N      0.0       Up             0  \n",
       "1              N      1.0     Flat             1  \n",
       "2              N      0.0       Up             0  \n",
       "3              Y      1.5     Flat             1  \n",
       "4              N      0.0       Up             0  "
      ]
     },
     "execution_count": 2,
     "metadata": {},
     "output_type": "execute_result"
    }
   ],
   "source": [
    "# Load files into a pandas dataframe\n",
    "df = pd.read_csv('heart.csv')\n",
    "df.head()"
   ]
  },
  {
   "cell_type": "markdown",
   "id": "b11b765d",
   "metadata": {},
   "source": [
    "###  Data Assessing and cleaning"
   ]
  },
  {
   "cell_type": "code",
   "execution_count": 3,
   "id": "4c7f4c2b",
   "metadata": {},
   "outputs": [
    {
     "name": "stdout",
     "output_type": "stream",
     "text": [
      "<class 'pandas.core.frame.DataFrame'>\n",
      "RangeIndex: 918 entries, 0 to 917\n",
      "Data columns (total 12 columns):\n",
      " #   Column          Non-Null Count  Dtype  \n",
      "---  ------          --------------  -----  \n",
      " 0   Age             918 non-null    int64  \n",
      " 1   Sex             918 non-null    object \n",
      " 2   ChestPainType   918 non-null    object \n",
      " 3   RestingBP       918 non-null    int64  \n",
      " 4   Cholesterol     918 non-null    int64  \n",
      " 5   FastingBS       918 non-null    int64  \n",
      " 6   RestingECG      918 non-null    object \n",
      " 7   MaxHR           918 non-null    int64  \n",
      " 8   ExerciseAngina  918 non-null    object \n",
      " 9   Oldpeak         918 non-null    float64\n",
      " 10  ST_Slope        918 non-null    object \n",
      " 11  HeartDisease    918 non-null    int64  \n",
      "dtypes: float64(1), int64(6), object(5)\n",
      "memory usage: 86.2+ KB\n"
     ]
    }
   ],
   "source": [
    "# inspect data\n",
    "df.info()"
   ]
  },
  {
   "cell_type": "code",
   "execution_count": 4,
   "id": "9d07717d",
   "metadata": {},
   "outputs": [
    {
     "data": {
      "image/png": "[encoded data removed]",
      "text/plain": [
       "<Figure size 1440x504 with 2 Axes>"
      ]
     },
     "metadata": {
      "needs_background": "light"
     },
     "output_type": "display_data"
    }
   ],
   "source": [
    "#check missing values\n",
    "fig, ax = plt.subplots(figsize = (20,7))\n",
    "ax = sns.heatmap(df.isnull(), vmin=0, vmax = 1)"
   ]
  },
  {
   "cell_type": "markdown",
   "id": "f4b9aaf4",
   "metadata": {},
   "source": [
    "- there seems to be no missing data"
   ]
  },
  {
   "cell_type": "code",
   "execution_count": 5,
   "id": "5f74175d",
   "metadata": {},
   "outputs": [
    {
     "data": {
      "text/html": [
       "<div>\n",
       "<style scoped>\n",
       "    .dataframe tbody tr th:only-of-type {\n",
       "        vertical-align: middle;\n",
       "    }\n",
       "\n",
       "    .dataframe tbody tr th {\n",
       "        vertical-align: top;\n",
       "    }\n",
       "\n",
       "    .dataframe thead th {\n",
       "        text-align: right;\n",
       "    }\n",
       "</style>\n",
       "<table border=\"1\" class=\"dataframe\">\n",
       "  <thead>\n",
       "    <tr style=\"text-align: right;\">\n",
       "      <th></th>\n",
       "      <th>Age</th>\n",
       "      <th>Sex</th>\n",
       "      <th>ChestPainType</th>\n",
       "      <th>RestingBP</th>\n",
       "      <th>Cholesterol</th>\n",
       "      <th>FastingBS</th>\n",
       "      <th>RestingECG</th>\n",
       "      <th>MaxHR</th>\n",
       "      <th>ExerciseAngina</th>\n",
       "      <th>Oldpeak</th>\n",
       "      <th>ST_Slope</th>\n",
       "      <th>HeartDisease</th>\n",
       "    </tr>\n",
       "  </thead>\n",
       "  <tbody>\n",
       "    <tr>\n",
       "      <th>293</th>\n",
       "      <td>65</td>\n",
       "      <td>M</td>\n",
       "      <td>ASY</td>\n",
       "      <td>115</td>\n",
       "      <td>0</td>\n",
       "      <td>0</td>\n",
       "      <td>Normal</td>\n",
       "      <td>93</td>\n",
       "      <td>Y</td>\n",
       "      <td>0.0</td>\n",
       "      <td>Flat</td>\n",
       "      <td>1</td>\n",
       "    </tr>\n",
       "    <tr>\n",
       "      <th>294</th>\n",
       "      <td>32</td>\n",
       "      <td>M</td>\n",
       "      <td>TA</td>\n",
       "      <td>95</td>\n",
       "      <td>0</td>\n",
       "      <td>1</td>\n",
       "      <td>Normal</td>\n",
       "      <td>127</td>\n",
       "      <td>N</td>\n",
       "      <td>0.7</td>\n",
       "      <td>Up</td>\n",
       "      <td>1</td>\n",
       "    </tr>\n",
       "    <tr>\n",
       "      <th>295</th>\n",
       "      <td>61</td>\n",
       "      <td>M</td>\n",
       "      <td>ASY</td>\n",
       "      <td>105</td>\n",
       "      <td>0</td>\n",
       "      <td>1</td>\n",
       "      <td>Normal</td>\n",
       "      <td>110</td>\n",
       "      <td>Y</td>\n",
       "      <td>1.5</td>\n",
       "      <td>Up</td>\n",
       "      <td>1</td>\n",
       "    </tr>\n",
       "    <tr>\n",
       "      <th>296</th>\n",
       "      <td>50</td>\n",
       "      <td>M</td>\n",
       "      <td>ASY</td>\n",
       "      <td>145</td>\n",
       "      <td>0</td>\n",
       "      <td>1</td>\n",
       "      <td>Normal</td>\n",
       "      <td>139</td>\n",
       "      <td>Y</td>\n",
       "      <td>0.7</td>\n",
       "      <td>Flat</td>\n",
       "      <td>1</td>\n",
       "    </tr>\n",
       "    <tr>\n",
       "      <th>297</th>\n",
       "      <td>57</td>\n",
       "      <td>M</td>\n",
       "      <td>ASY</td>\n",
       "      <td>110</td>\n",
       "      <td>0</td>\n",
       "      <td>1</td>\n",
       "      <td>ST</td>\n",
       "      <td>131</td>\n",
       "      <td>Y</td>\n",
       "      <td>1.4</td>\n",
       "      <td>Up</td>\n",
       "      <td>1</td>\n",
       "    </tr>\n",
       "    <tr>\n",
       "      <th>...</th>\n",
       "      <td>...</td>\n",
       "      <td>...</td>\n",
       "      <td>...</td>\n",
       "      <td>...</td>\n",
       "      <td>...</td>\n",
       "      <td>...</td>\n",
       "      <td>...</td>\n",
       "      <td>...</td>\n",
       "      <td>...</td>\n",
       "      <td>...</td>\n",
       "      <td>...</td>\n",
       "      <td>...</td>\n",
       "    </tr>\n",
       "    <tr>\n",
       "      <th>514</th>\n",
       "      <td>43</td>\n",
       "      <td>M</td>\n",
       "      <td>ASY</td>\n",
       "      <td>122</td>\n",
       "      <td>0</td>\n",
       "      <td>0</td>\n",
       "      <td>Normal</td>\n",
       "      <td>120</td>\n",
       "      <td>N</td>\n",
       "      <td>0.5</td>\n",
       "      <td>Up</td>\n",
       "      <td>1</td>\n",
       "    </tr>\n",
       "    <tr>\n",
       "      <th>515</th>\n",
       "      <td>63</td>\n",
       "      <td>M</td>\n",
       "      <td>NAP</td>\n",
       "      <td>130</td>\n",
       "      <td>0</td>\n",
       "      <td>1</td>\n",
       "      <td>ST</td>\n",
       "      <td>160</td>\n",
       "      <td>N</td>\n",
       "      <td>3.0</td>\n",
       "      <td>Flat</td>\n",
       "      <td>0</td>\n",
       "    </tr>\n",
       "    <tr>\n",
       "      <th>518</th>\n",
       "      <td>48</td>\n",
       "      <td>M</td>\n",
       "      <td>NAP</td>\n",
       "      <td>102</td>\n",
       "      <td>0</td>\n",
       "      <td>1</td>\n",
       "      <td>ST</td>\n",
       "      <td>110</td>\n",
       "      <td>Y</td>\n",
       "      <td>1.0</td>\n",
       "      <td>Down</td>\n",
       "      <td>1</td>\n",
       "    </tr>\n",
       "    <tr>\n",
       "      <th>535</th>\n",
       "      <td>56</td>\n",
       "      <td>M</td>\n",
       "      <td>ASY</td>\n",
       "      <td>130</td>\n",
       "      <td>0</td>\n",
       "      <td>0</td>\n",
       "      <td>LVH</td>\n",
       "      <td>122</td>\n",
       "      <td>Y</td>\n",
       "      <td>1.0</td>\n",
       "      <td>Flat</td>\n",
       "      <td>1</td>\n",
       "    </tr>\n",
       "    <tr>\n",
       "      <th>536</th>\n",
       "      <td>62</td>\n",
       "      <td>M</td>\n",
       "      <td>NAP</td>\n",
       "      <td>133</td>\n",
       "      <td>0</td>\n",
       "      <td>1</td>\n",
       "      <td>ST</td>\n",
       "      <td>119</td>\n",
       "      <td>Y</td>\n",
       "      <td>1.2</td>\n",
       "      <td>Flat</td>\n",
       "      <td>1</td>\n",
       "    </tr>\n",
       "  </tbody>\n",
       "</table>\n",
       "<p>172 rows × 12 columns</p>\n",
       "</div>"
      ],
      "text/plain": [
       "     Age Sex ChestPainType  RestingBP  Cholesterol  FastingBS RestingECG  \\\n",
       "293   65   M           ASY        115            0          0     Normal   \n",
       "294   32   M            TA         95            0          1     Normal   \n",
       "295   61   M           ASY        105            0          1     Normal   \n",
       "296   50   M           ASY        145            0          1     Normal   \n",
       "297   57   M           ASY        110            0          1         ST   \n",
       "..   ...  ..           ...        ...          ...        ...        ...   \n",
       "514   43   M           ASY        122            0          0     Normal   \n",
       "515   63   M           NAP        130            0          1         ST   \n",
       "518   48   M           NAP        102            0          1         ST   \n",
       "535   56   M           ASY        130            0          0        LVH   \n",
       "536   62   M           NAP        133            0          1         ST   \n",
       "\n",
       "     MaxHR ExerciseAngina  Oldpeak ST_Slope  HeartDisease  \n",
       "293     93              Y      0.0     Flat             1  \n",
       "294    127              N      0.7       Up             1  \n",
       "295    110              Y      1.5       Up             1  \n",
       "296    139              Y      0.7     Flat             1  \n",
       "297    131              Y      1.4       Up             1  \n",
       "..     ...            ...      ...      ...           ...  \n",
       "514    120              N      0.5       Up             1  \n",
       "515    160              N      3.0     Flat             0  \n",
       "518    110              Y      1.0     Down             1  \n",
       "535    122              Y      1.0     Flat             1  \n",
       "536    119              Y      1.2     Flat             1  \n",
       "\n",
       "[172 rows x 12 columns]"
      ]
     },
     "execution_count": 5,
     "metadata": {},
     "output_type": "execute_result"
    }
   ],
   "source": [
    "# cecking for values of zero\n",
    "\n",
    "df[df['Cholesterol'] == 0]"
   ]
  },
  {
   "cell_type": "code",
   "execution_count": 6,
   "id": "35ee04fe",
   "metadata": {},
   "outputs": [],
   "source": [
    "#replacing zero values with the mean()\n",
    "\n",
    "df[\"Cholesterol\"] = df[\"Cholesterol\"].fillna(df[\"Cholesterol\"].mean())"
   ]
  },
  {
   "cell_type": "markdown",
   "id": "2738b27e",
   "metadata": {},
   "source": [
    "##  Feature Engineering "
   ]
  },
  {
   "cell_type": "code",
   "execution_count": 7,
   "id": "9f8becc3",
   "metadata": {},
   "outputs": [],
   "source": [
    "#Encoding categorical Data\n",
    "df['Sex'].replace( { 'M':1, 'F':0} , inplace=True)\n",
    "df['RestingECG'].replace( { 'Normal':1, 'ST':2, 'LVH':3} , inplace=True)\n",
    "df['ExerciseAngina'].replace( { 'N':0, 'Y':1} , inplace=True)\n",
    "df['ST_Slope'].replace( { 'Up':1, 'Flat':2, 'Down':3} , inplace=True)\n",
    "df['ChestPainType'].replace( { 'ATA':1, 'NAP':2, 'ASY':3, 'TA':4} , inplace=True)"
   ]
  },
  {
   "cell_type": "markdown",
   "id": "8c773757",
   "metadata": {},
   "source": [
    "##  Outlier detection"
   ]
  },
  {
   "cell_type": "code",
   "execution_count": 8,
   "id": "e9f0a0a3",
   "metadata": {},
   "outputs": [
    {
     "data": {
      "text/html": [
       "<div>\n",
       "<style scoped>\n",
       "    .dataframe tbody tr th:only-of-type {\n",
       "        vertical-align: middle;\n",
       "    }\n",
       "\n",
       "    .dataframe tbody tr th {\n",
       "        vertical-align: top;\n",
       "    }\n",
       "\n",
       "    .dataframe thead th {\n",
       "        text-align: right;\n",
       "    }\n",
       "</style>\n",
       "<table border=\"1\" class=\"dataframe\">\n",
       "  <thead>\n",
       "    <tr style=\"text-align: right;\">\n",
       "      <th></th>\n",
       "      <th>Age</th>\n",
       "      <th>Sex</th>\n",
       "      <th>ChestPainType</th>\n",
       "      <th>RestingBP</th>\n",
       "      <th>Cholesterol</th>\n",
       "      <th>FastingBS</th>\n",
       "      <th>RestingECG</th>\n",
       "      <th>MaxHR</th>\n",
       "      <th>ExerciseAngina</th>\n",
       "      <th>Oldpeak</th>\n",
       "      <th>ST_Slope</th>\n",
       "      <th>HeartDisease</th>\n",
       "    </tr>\n",
       "  </thead>\n",
       "  <tbody>\n",
       "    <tr>\n",
       "      <th>count</th>\n",
       "      <td>918.000000</td>\n",
       "      <td>918.000000</td>\n",
       "      <td>918.000000</td>\n",
       "      <td>918.000000</td>\n",
       "      <td>918.000000</td>\n",
       "      <td>918.000000</td>\n",
       "      <td>918.000000</td>\n",
       "      <td>918.000000</td>\n",
       "      <td>918.000000</td>\n",
       "      <td>918.000000</td>\n",
       "      <td>918.000000</td>\n",
       "      <td>918.000000</td>\n",
       "    </tr>\n",
       "    <tr>\n",
       "      <th>mean</th>\n",
       "      <td>53.510893</td>\n",
       "      <td>0.789760</td>\n",
       "      <td>2.452070</td>\n",
       "      <td>132.396514</td>\n",
       "      <td>198.799564</td>\n",
       "      <td>0.233115</td>\n",
       "      <td>1.603486</td>\n",
       "      <td>136.809368</td>\n",
       "      <td>0.404139</td>\n",
       "      <td>0.887364</td>\n",
       "      <td>1.638344</td>\n",
       "      <td>0.553377</td>\n",
       "    </tr>\n",
       "    <tr>\n",
       "      <th>std</th>\n",
       "      <td>9.432617</td>\n",
       "      <td>0.407701</td>\n",
       "      <td>0.851832</td>\n",
       "      <td>18.514154</td>\n",
       "      <td>109.384145</td>\n",
       "      <td>0.423046</td>\n",
       "      <td>0.805968</td>\n",
       "      <td>25.460334</td>\n",
       "      <td>0.490992</td>\n",
       "      <td>1.066570</td>\n",
       "      <td>0.607056</td>\n",
       "      <td>0.497414</td>\n",
       "    </tr>\n",
       "    <tr>\n",
       "      <th>min</th>\n",
       "      <td>28.000000</td>\n",
       "      <td>0.000000</td>\n",
       "      <td>1.000000</td>\n",
       "      <td>0.000000</td>\n",
       "      <td>0.000000</td>\n",
       "      <td>0.000000</td>\n",
       "      <td>1.000000</td>\n",
       "      <td>60.000000</td>\n",
       "      <td>0.000000</td>\n",
       "      <td>-2.600000</td>\n",
       "      <td>1.000000</td>\n",
       "      <td>0.000000</td>\n",
       "    </tr>\n",
       "    <tr>\n",
       "      <th>25%</th>\n",
       "      <td>47.000000</td>\n",
       "      <td>1.000000</td>\n",
       "      <td>2.000000</td>\n",
       "      <td>120.000000</td>\n",
       "      <td>173.250000</td>\n",
       "      <td>0.000000</td>\n",
       "      <td>1.000000</td>\n",
       "      <td>120.000000</td>\n",
       "      <td>0.000000</td>\n",
       "      <td>0.000000</td>\n",
       "      <td>1.000000</td>\n",
       "      <td>0.000000</td>\n",
       "    </tr>\n",
       "    <tr>\n",
       "      <th>50%</th>\n",
       "      <td>54.000000</td>\n",
       "      <td>1.000000</td>\n",
       "      <td>3.000000</td>\n",
       "      <td>130.000000</td>\n",
       "      <td>223.000000</td>\n",
       "      <td>0.000000</td>\n",
       "      <td>1.000000</td>\n",
       "      <td>138.000000</td>\n",
       "      <td>0.000000</td>\n",
       "      <td>0.600000</td>\n",
       "      <td>2.000000</td>\n",
       "      <td>1.000000</td>\n",
       "    </tr>\n",
       "    <tr>\n",
       "      <th>75%</th>\n",
       "      <td>60.000000</td>\n",
       "      <td>1.000000</td>\n",
       "      <td>3.000000</td>\n",
       "      <td>140.000000</td>\n",
       "      <td>267.000000</td>\n",
       "      <td>0.000000</td>\n",
       "      <td>2.000000</td>\n",
       "      <td>156.000000</td>\n",
       "      <td>1.000000</td>\n",
       "      <td>1.500000</td>\n",
       "      <td>2.000000</td>\n",
       "      <td>1.000000</td>\n",
       "    </tr>\n",
       "    <tr>\n",
       "      <th>max</th>\n",
       "      <td>77.000000</td>\n",
       "      <td>1.000000</td>\n",
       "      <td>4.000000</td>\n",
       "      <td>200.000000</td>\n",
       "      <td>603.000000</td>\n",
       "      <td>1.000000</td>\n",
       "      <td>3.000000</td>\n",
       "      <td>202.000000</td>\n",
       "      <td>1.000000</td>\n",
       "      <td>6.200000</td>\n",
       "      <td>3.000000</td>\n",
       "      <td>1.000000</td>\n",
       "    </tr>\n",
       "  </tbody>\n",
       "</table>\n",
       "</div>"
      ],
      "text/plain": [
       "              Age         Sex  ChestPainType   RestingBP  Cholesterol  \\\n",
       "count  918.000000  918.000000     918.000000  918.000000   918.000000   \n",
       "mean    53.510893    0.789760       2.452070  132.396514   198.799564   \n",
       "std      9.432617    0.407701       0.851832   18.514154   109.384145   \n",
       "min     28.000000    0.000000       1.000000    0.000000     0.000000   \n",
       "25%     47.000000    1.000000       2.000000  120.000000   173.250000   \n",
       "50%     54.000000    1.000000       3.000000  130.000000   223.000000   \n",
       "75%     60.000000    1.000000       3.000000  140.000000   267.000000   \n",
       "max     77.000000    1.000000       4.000000  200.000000   603.000000   \n",
       "\n",
       "        FastingBS  RestingECG       MaxHR  ExerciseAngina     Oldpeak  \\\n",
       "count  918.000000  918.000000  918.000000      918.000000  918.000000   \n",
       "mean     0.233115    1.603486  136.809368        0.404139    0.887364   \n",
       "std      0.423046    0.805968   25.460334        0.490992    1.066570   \n",
       "min      0.000000    1.000000   60.000000        0.000000   -2.600000   \n",
       "25%      0.000000    1.000000  120.000000        0.000000    0.000000   \n",
       "50%      0.000000    1.000000  138.000000        0.000000    0.600000   \n",
       "75%      0.000000    2.000000  156.000000        1.000000    1.500000   \n",
       "max      1.000000    3.000000  202.000000        1.000000    6.200000   \n",
       "\n",
       "         ST_Slope  HeartDisease  \n",
       "count  918.000000    918.000000  \n",
       "mean     1.638344      0.553377  \n",
       "std      0.607056      0.497414  \n",
       "min      1.000000      0.000000  \n",
       "25%      1.000000      0.000000  \n",
       "50%      2.000000      1.000000  \n",
       "75%      2.000000      1.000000  \n",
       "max      3.000000      1.000000  "
      ]
     },
     "execution_count": 8,
     "metadata": {},
     "output_type": "execute_result"
    }
   ],
   "source": [
    "df.describe()"
   ]
  },
  {
   "cell_type": "markdown",
   "id": "0be0575a",
   "metadata": {},
   "source": [
    "- there are outliers in some of the columns"
   ]
  },
  {
   "cell_type": "markdown",
   "id": "ecc5b292",
   "metadata": {},
   "source": [
    "## Outlier removal"
   ]
  },
  {
   "cell_type": "code",
   "execution_count": 9,
   "id": "14c441b6",
   "metadata": {},
   "outputs": [],
   "source": [
    "# creating a function to remove values greater than two standard deviations from the mean\n",
    "\n",
    "def remove_outliers(data, column):\n",
    "    mean=data[column].std()\n",
    "    std=data[column].mean()\n",
    "\n",
    "    #generating the treshold\n",
    "    treshold=mean+std*2\n",
    "\n",
    "    #getting the data below the treshold\n",
    "\n",
    "    data=data[data[column] <=treshold]\n",
    "\n",
    "    return data\n"
   ]
  },
  {
   "cell_type": "code",
   "execution_count": 10,
   "id": "fb9c10a6",
   "metadata": {},
   "outputs": [],
   "source": [
    "#removing the outiers\n",
    "\n",
    "df = remove_outliers(df, 'Cholesterol')\n",
    "df = remove_outliers(df, 'RestingBP')"
   ]
  },
  {
   "cell_type": "markdown",
   "id": "4fdb954f",
   "metadata": {},
   "source": [
    "## Exploratory Data Analysis"
   ]
  },
  {
   "cell_type": "code",
   "execution_count": 11,
   "id": "be7e5c90",
   "metadata": {},
   "outputs": [
    {
     "data": {
      "text/plain": [
       "Age                50\n",
       "Sex                 2\n",
       "ChestPainType       4\n",
       "RestingBP          67\n",
       "Cholesterol       218\n",
       "FastingBS           2\n",
       "RestingECG          3\n",
       "MaxHR             119\n",
       "ExerciseAngina      2\n",
       "Oldpeak            53\n",
       "ST_Slope            3\n",
       "HeartDisease        2\n",
       "dtype: int64"
      ]
     },
     "execution_count": 11,
     "metadata": {},
     "output_type": "execute_result"
    }
   ],
   "source": [
    "df.nunique()"
   ]
  },
  {
   "cell_type": "code",
   "execution_count": 12,
   "id": "f9fa701c",
   "metadata": {},
   "outputs": [
    {
     "data": {
      "text/plain": [
       "<seaborn.axisgrid.FacetGrid at 0x195616a3eb0>"
      ]
     },
     "execution_count": 12,
     "metadata": {},
     "output_type": "execute_result"
    },
    {
     "data": {
      "image/png": "[encoded data removed]",
      "text/plain": [
       "<Figure size 360x360 with 1 Axes>"
      ]
     },
     "metadata": {
      "needs_background": "light"
     },
     "output_type": "display_data"
    }
   ],
   "source": [
    "# Explore Target distribution \n",
    "sns.catplot(x=\"HeartDisease\", kind=\"count\", data=df,palette='coolwarm')"
   ]
  },
  {
   "cell_type": "code",
   "execution_count": 13,
   "id": "d22a1919",
   "metadata": {},
   "outputs": [
    {
     "data": {
      "image/png": "[encoded data removed]",
      "text/plain": [
       "<Figure size 1152x720 with 3 Axes>"
      ]
     },
     "metadata": {
      "needs_background": "light"
     },
     "output_type": "display_data"
    }
   ],
   "source": [
    "plt.figure(figsize = [16, 10])\n",
    "\n",
    "# subplot 1: heart disease count by fastingbs\n",
    "plt.subplot(3, 1, 1)\n",
    "sns.countplot(x=\"FastingBS\", data=df,hue='HeartDisease', palette = \"coolwarm\")\n",
    "\n",
    "# subplot 2:  heart disease count by chest pain type\n",
    "ax = plt.subplot(3, 1, 2)\n",
    "sns.countplot(x=\"ChestPainType\", data=df,hue='HeartDisease',  palette = \"coolwarm\")\n",
    "ax.legend(ncol = 2)\n",
    "\n",
    "# subplot 3: heart disease count by ExerciseAngina\n",
    "ax = plt.subplot(3, 1, 3)\n",
    "sns.countplot(x=\"ExerciseAngina\", data=df,hue='HeartDisease',  palette = \"coolwarm\")\n",
    "ax.legend(loc = 1, ncol = 2) \n",
    "\n",
    "plt.show()"
   ]
  },
  {
   "cell_type": "markdown",
   "id": "da938a1e",
   "metadata": {},
   "source": [
    "## Data preprocessing  and model building"
   ]
  },
  {
   "cell_type": "code",
   "execution_count": 14,
   "id": "f68c8030",
   "metadata": {},
   "outputs": [],
   "source": [
    "X= df.drop('HeartDisease', axis=1)\n",
    "y = df.HeartDisease"
   ]
  },
  {
   "cell_type": "code",
   "execution_count": 15,
   "id": "4831037d",
   "metadata": {},
   "outputs": [],
   "source": [
    "# Split train_data\n",
    "\n",
    "X_train, X_test, y_train, y_test = train_test_split(X, y, test_size=0.30)"
   ]
  },
  {
   "cell_type": "markdown",
   "id": "abd6dd0d",
   "metadata": {},
   "source": [
    "### pipeline, handling missing values, and feature scaling "
   ]
  },
  {
   "cell_type": "code",
   "execution_count": 16,
   "id": "31f630f9",
   "metadata": {},
   "outputs": [],
   "source": [
    "steps=[(\"imputation_mean\",SimpleImputer(missing_values=np.nan,strategy=\"mean\")),\n",
    "    (\"scaling\",StandardScaler()),\n",
    "      (\"LR\",LogisticRegression(solver='liblinear', max_iter=1000))]"
   ]
  },
  {
   "cell_type": "code",
   "execution_count": 17,
   "id": "0f87b43d",
   "metadata": {},
   "outputs": [],
   "source": [
    "pipe=Pipeline(steps)"
   ]
  },
  {
   "cell_type": "markdown",
   "id": "78bc151d",
   "metadata": {},
   "source": [
    "## model training using logistic regression"
   ]
  },
  {
   "cell_type": "code",
   "execution_count": 18,
   "id": "d407101b",
   "metadata": {},
   "outputs": [
    {
     "data": {
      "text/html": [
       "<style>#sk-container-id-1 {color: black;background-color: white;}#sk-container-id-1 pre{padding: 0;}#sk-container-id-1 div.sk-toggleable {background-color: white;}#sk-container-id-1 label.sk-toggleable__label {cursor: pointer;display: block;width: 100%;margin-bottom: 0;padding: 0.3em;box-sizing: border-box;text-align: center;}#sk-container-id-1 label.sk-toggleable__label-arrow:before {content: \"▸\";float: left;margin-right: 0.25em;color: #696969;}#sk-container-id-1 label.sk-toggleable__label-arrow:hover:before {color: black;}#sk-container-id-1 div.sk-estimator:hover label.sk-toggleable__label-arrow:before {color: black;}#sk-container-id-1 div.sk-toggleable__content {max-height: 0;max-width: 0;overflow: hidden;text-align: left;background-color: #f0f8ff;}#sk-container-id-1 div.sk-toggleable__content pre {margin: 0.2em;color: black;border-radius: 0.25em;background-color: #f0f8ff;}#sk-container-id-1 input.sk-toggleable__control:checked~div.sk-toggleable__content {max-height: 200px;max-width: 100%;overflow: auto;}#sk-container-id-1 input.sk-toggleable__control:checked~label.sk-toggleable__label-arrow:before {content: \"▾\";}#sk-container-id-1 div.sk-estimator input.sk-toggleable__control:checked~label.sk-toggleable__label {background-color: #d4ebff;}#sk-container-id-1 div.sk-label input.sk-toggleable__control:checked~label.sk-toggleable__label {background-color: #d4ebff;}#sk-container-id-1 input.sk-hidden--visually {border: 0;clip: rect(1px 1px 1px 1px);clip: rect(1px, 1px, 1px, 1px);height: 1px;margin: -1px;overflow: hidden;padding: 0;position: absolute;width: 1px;}#sk-container-id-1 div.sk-estimator {font-family: monospace;background-color: #f0f8ff;border: 1px dotted black;border-radius: 0.25em;box-sizing: border-box;margin-bottom: 0.5em;}#sk-container-id-1 div.sk-estimator:hover {background-color: #d4ebff;}#sk-container-id-1 div.sk-parallel-item::after {content: \"\";width: 100%;border-bottom: 1px solid gray;flex-grow: 1;}#sk-container-id-1 div.sk-label:hover label.sk-toggleable__label {background-color: #d4ebff;}#sk-container-id-1 div.sk-serial::before {content: \"\";position: absolute;border-left: 1px solid gray;box-sizing: border-box;top: 0;bottom: 0;left: 50%;z-index: 0;}#sk-container-id-1 div.sk-serial {display: flex;flex-direction: column;align-items: center;background-color: white;padding-right: 0.2em;padding-left: 0.2em;position: relative;}#sk-container-id-1 div.sk-item {position: relative;z-index: 1;}#sk-container-id-1 div.sk-parallel {display: flex;align-items: stretch;justify-content: center;background-color: white;position: relative;}#sk-container-id-1 div.sk-item::before, #sk-container-id-1 div.sk-parallel-item::before {content: \"\";position: absolute;border-left: 1px solid gray;box-sizing: border-box;top: 0;bottom: 0;left: 50%;z-index: -1;}#sk-container-id-1 div.sk-parallel-item {display: flex;flex-direction: column;z-index: 1;position: relative;background-color: white;}#sk-container-id-1 div.sk-parallel-item:first-child::after {align-self: flex-end;width: 50%;}#sk-container-id-1 div.sk-parallel-item:last-child::after {align-self: flex-start;width: 50%;}#sk-container-id-1 div.sk-parallel-item:only-child::after {width: 0;}#sk-container-id-1 div.sk-dashed-wrapped {border: 1px dashed gray;margin: 0 0.4em 0.5em 0.4em;box-sizing: border-box;padding-bottom: 0.4em;background-color: white;}#sk-container-id-1 div.sk-label label {font-family: monospace;font-weight: bold;display: inline-block;line-height: 1.2em;}#sk-container-id-1 div.sk-label-container {text-align: center;}#sk-container-id-1 div.sk-container {/* jupyter's `normalize.less` sets `[hidden] { display: none; }` but bootstrap.min.css set `[hidden] { display: none !important; }` so we also need the `!important` here to be able to override the default hidden behavior on the sphinx rendered scikit-learn.org. See: https://github.com/scikit-learn/scikit-learn/issues/21755 */display: inline-block !important;position: relative;}#sk-container-id-1 div.sk-text-repr-fallback {display: none;}</style><div id=\"sk-container-id-1\" class=\"sk-top-container\"><div class=\"sk-text-repr-fallback\"><pre>Pipeline(steps=[(&#x27;imputation_mean&#x27;, SimpleImputer()),\n",
       "                (&#x27;scaling&#x27;, StandardScaler()),\n",
       "                (&#x27;LR&#x27;, LogisticRegression(max_iter=1000, solver=&#x27;liblinear&#x27;))])</pre><b>In a Jupyter environment, please rerun this cell to show the HTML representation or trust the notebook. <br />On GitHub, the HTML representation is unable to render, please try loading this page with nbviewer.org.</b></div><div class=\"sk-container\" hidden><div class=\"sk-item sk-dashed-wrapped\"><div class=\"sk-label-container\"><div class=\"sk-label sk-toggleable\"><input class=\"sk-toggleable__control sk-hidden--visually\" id=\"sk-estimator-id-1\" type=\"checkbox\" ><label for=\"sk-estimator-id-1\" class=\"sk-toggleable__label sk-toggleable__label-arrow\">Pipeline</label><div class=\"sk-toggleable__content\"><pre>Pipeline(steps=[(&#x27;imputation_mean&#x27;, SimpleImputer()),\n",
       "                (&#x27;scaling&#x27;, StandardScaler()),\n",
       "                (&#x27;LR&#x27;, LogisticRegression(max_iter=1000, solver=&#x27;liblinear&#x27;))])</pre></div></div></div><div class=\"sk-serial\"><div class=\"sk-item\"><div class=\"sk-estimator sk-toggleable\"><input class=\"sk-toggleable__control sk-hidden--visually\" id=\"sk-estimator-id-2\" type=\"checkbox\" ><label for=\"sk-estimator-id-2\" class=\"sk-toggleable__label sk-toggleable__label-arrow\">SimpleImputer</label><div class=\"sk-toggleable__content\"><pre>SimpleImputer()</pre></div></div></div><div class=\"sk-item\"><div class=\"sk-estimator sk-toggleable\"><input class=\"sk-toggleable__control sk-hidden--visually\" id=\"sk-estimator-id-3\" type=\"checkbox\" ><label for=\"sk-estimator-id-3\" class=\"sk-toggleable__label sk-toggleable__label-arrow\">StandardScaler</label><div class=\"sk-toggleable__content\"><pre>StandardScaler()</pre></div></div></div><div class=\"sk-item\"><div class=\"sk-estimator sk-toggleable\"><input class=\"sk-toggleable__control sk-hidden--visually\" id=\"sk-estimator-id-4\" type=\"checkbox\" ><label for=\"sk-estimator-id-4\" class=\"sk-toggleable__label sk-toggleable__label-arrow\">LogisticRegression</label><div class=\"sk-toggleable__content\"><pre>LogisticRegression(max_iter=1000, solver=&#x27;liblinear&#x27;)</pre></div></div></div></div></div></div></div>"
      ],
      "text/plain": [
       "Pipeline(steps=[('imputation_mean', SimpleImputer()),\n",
       "                ('scaling', StandardScaler()),\n",
       "                ('LR', LogisticRegression(max_iter=1000, solver='liblinear'))])"
      ]
     },
     "execution_count": 18,
     "metadata": {},
     "output_type": "execute_result"
    }
   ],
   "source": [
    "pipe.fit(X_train,y_train)"
   ]
  },
  {
   "cell_type": "code",
   "execution_count": 19,
   "id": "53be6176",
   "metadata": {},
   "outputs": [],
   "source": [
    "lr_pred=pipe.predict(X_test)"
   ]
  },
  {
   "cell_type": "markdown",
   "id": "46ab5d25",
   "metadata": {},
   "source": [
    "## model evaluation"
   ]
  },
  {
   "cell_type": "code",
   "execution_count": 20,
   "id": "6b72926b",
   "metadata": {},
   "outputs": [
    {
     "name": "stdout",
     "output_type": "stream",
     "text": [
      "              precision    recall  f1-score   support\n",
      "\n",
      "           0       0.84      0.78      0.81       130\n",
      "           1       0.82      0.87      0.84       145\n",
      "\n",
      "    accuracy                           0.83       275\n",
      "   macro avg       0.83      0.83      0.83       275\n",
      "weighted avg       0.83      0.83      0.83       275\n",
      "\n"
     ]
    }
   ],
   "source": [
    "print(classification_report(y_test,lr_pred))"
   ]
  },
  {
   "cell_type": "markdown",
   "id": "1a01e50e",
   "metadata": {},
   "source": [
    "## model training and hyperparameter tuning"
   ]
  },
  {
   "cell_type": "code",
   "execution_count": 21,
   "id": "8a2f13cd",
   "metadata": {},
   "outputs": [],
   "source": [
    "params ={}\n",
    "params['SVC__C']= [0.1,1, 10, 100]\n",
    "params['SVC__gamma']= [1,0.1,0.01,0.001]\n",
    "params['SVC__kernel']= ['rbf']"
   ]
  },
  {
   "cell_type": "code",
   "execution_count": 22,
   "id": "cb3a3c9c",
   "metadata": {},
   "outputs": [],
   "source": [
    "step_2=[(\"imputation_mean\",SimpleImputer(missing_values=np.nan,strategy=\"mean\")),\n",
    "    (\"scaling\",StandardScaler()),\n",
    "      (\"SVC\",SVC())]"
   ]
  },
  {
   "cell_type": "code",
   "execution_count": 24,
   "id": "f0a8d309",
   "metadata": {},
   "outputs": [],
   "source": [
    "pipe_2=Pipeline(step_2)"
   ]
  },
  {
   "cell_type": "code",
   "execution_count": 25,
   "id": "187ce61c",
   "metadata": {},
   "outputs": [],
   "source": [
    "skf = StratifiedKFold(5, shuffle=True, random_state=1)"
   ]
  },
  {
   "cell_type": "code",
   "execution_count": 26,
   "id": "c1a92cd8",
   "metadata": {},
   "outputs": [],
   "source": [
    "grid = GridSearchCV(pipe_2,params,refit=True,verbose=2,cv=skf)"
   ]
  },
  {
   "cell_type": "code",
   "execution_count": 27,
   "id": "286f81c9",
   "metadata": {},
   "outputs": [
    {
     "name": "stdout",
     "output_type": "stream",
     "text": [
      "Fitting 5 folds for each of 16 candidates, totalling 80 fits\n",
      "[CV] END ..........SVC__C=0.1, SVC__gamma=1, SVC__kernel=rbf; total time=   0.0s\n",
      "[CV] END ..........SVC__C=0.1, SVC__gamma=1, SVC__kernel=rbf; total time=   0.0s\n",
      "[CV] END ..........SVC__C=0.1, SVC__gamma=1, SVC__kernel=rbf; total time=   0.0s\n",
      "[CV] END ..........SVC__C=0.1, SVC__gamma=1, SVC__kernel=rbf; total time=   0.0s\n",
      "[CV] END ..........SVC__C=0.1, SVC__gamma=1, SVC__kernel=rbf; total time=   0.0s\n",
      "[CV] END ........SVC__C=0.1, SVC__gamma=0.1, SVC__kernel=rbf; total time=   0.0s\n",
      "[CV] END ........SVC__C=0.1, SVC__gamma=0.1, SVC__kernel=rbf; total time=   0.0s\n",
      "[CV] END ........SVC__C=0.1, SVC__gamma=0.1, SVC__kernel=rbf; total time=   0.0s\n",
      "[CV] END ........SVC__C=0.1, SVC__gamma=0.1, SVC__kernel=rbf; total time=   0.0s\n",
      "[CV] END ........SVC__C=0.1, SVC__gamma=0.1, SVC__kernel=rbf; total time=   0.0s\n",
      "[CV] END .......SVC__C=0.1, SVC__gamma=0.01, SVC__kernel=rbf; total time=   0.0s\n",
      "[CV] END .......SVC__C=0.1, SVC__gamma=0.01, SVC__kernel=rbf; total time=   0.0s\n",
      "[CV] END .......SVC__C=0.1, SVC__gamma=0.01, SVC__kernel=rbf; total time=   0.0s\n",
      "[CV] END .......SVC__C=0.1, SVC__gamma=0.01, SVC__kernel=rbf; total time=   0.0s\n",
      "[CV] END .......SVC__C=0.1, SVC__gamma=0.01, SVC__kernel=rbf; total time=   0.0s\n",
      "[CV] END ......SVC__C=0.1, SVC__gamma=0.001, SVC__kernel=rbf; total time=   0.0s\n",
      "[CV] END ......SVC__C=0.1, SVC__gamma=0.001, SVC__kernel=rbf; total time=   0.0s\n",
      "[CV] END ......SVC__C=0.1, SVC__gamma=0.001, SVC__kernel=rbf; total time=   0.0s\n",
      "[CV] END ......SVC__C=0.1, SVC__gamma=0.001, SVC__kernel=rbf; total time=   0.0s\n",
      "[CV] END ......SVC__C=0.1, SVC__gamma=0.001, SVC__kernel=rbf; total time=   0.0s\n",
      "[CV] END ............SVC__C=1, SVC__gamma=1, SVC__kernel=rbf; total time=   0.0s\n",
      "[CV] END ............SVC__C=1, SVC__gamma=1, SVC__kernel=rbf; total time=   0.0s\n",
      "[CV] END ............SVC__C=1, SVC__gamma=1, SVC__kernel=rbf; total time=   0.0s\n",
      "[CV] END ............SVC__C=1, SVC__gamma=1, SVC__kernel=rbf; total time=   0.0s\n",
      "[CV] END ............SVC__C=1, SVC__gamma=1, SVC__kernel=rbf; total time=   0.0s\n",
      "[CV] END ..........SVC__C=1, SVC__gamma=0.1, SVC__kernel=rbf; total time=   0.0s\n",
      "[CV] END ..........SVC__C=1, SVC__gamma=0.1, SVC__kernel=rbf; total time=   0.0s\n",
      "[CV] END ..........SVC__C=1, SVC__gamma=0.1, SVC__kernel=rbf; total time=   0.0s\n",
      "[CV] END ..........SVC__C=1, SVC__gamma=0.1, SVC__kernel=rbf; total time=   0.0s\n",
      "[CV] END ..........SVC__C=1, SVC__gamma=0.1, SVC__kernel=rbf; total time=   0.0s\n",
      "[CV] END .........SVC__C=1, SVC__gamma=0.01, SVC__kernel=rbf; total time=   0.0s\n",
      "[CV] END .........SVC__C=1, SVC__gamma=0.01, SVC__kernel=rbf; total time=   0.0s\n",
      "[CV] END .........SVC__C=1, SVC__gamma=0.01, SVC__kernel=rbf; total time=   0.0s\n",
      "[CV] END .........SVC__C=1, SVC__gamma=0.01, SVC__kernel=rbf; total time=   0.0s\n",
      "[CV] END .........SVC__C=1, SVC__gamma=0.01, SVC__kernel=rbf; total time=   0.0s\n",
      "[CV] END ........SVC__C=1, SVC__gamma=0.001, SVC__kernel=rbf; total time=   0.0s\n",
      "[CV] END ........SVC__C=1, SVC__gamma=0.001, SVC__kernel=rbf; total time=   0.0s\n",
      "[CV] END ........SVC__C=1, SVC__gamma=0.001, SVC__kernel=rbf; total time=   0.0s\n",
      "[CV] END ........SVC__C=1, SVC__gamma=0.001, SVC__kernel=rbf; total time=   0.0s\n",
      "[CV] END ........SVC__C=1, SVC__gamma=0.001, SVC__kernel=rbf; total time=   0.0s\n",
      "[CV] END ...........SVC__C=10, SVC__gamma=1, SVC__kernel=rbf; total time=   0.0s\n",
      "[CV] END ...........SVC__C=10, SVC__gamma=1, SVC__kernel=rbf; total time=   0.0s\n",
      "[CV] END ...........SVC__C=10, SVC__gamma=1, SVC__kernel=rbf; total time=   0.0s\n",
      "[CV] END ...........SVC__C=10, SVC__gamma=1, SVC__kernel=rbf; total time=   0.0s\n",
      "[CV] END ...........SVC__C=10, SVC__gamma=1, SVC__kernel=rbf; total time=   0.0s\n",
      "[CV] END .........SVC__C=10, SVC__gamma=0.1, SVC__kernel=rbf; total time=   0.0s\n",
      "[CV] END .........SVC__C=10, SVC__gamma=0.1, SVC__kernel=rbf; total time=   0.0s\n",
      "[CV] END .........SVC__C=10, SVC__gamma=0.1, SVC__kernel=rbf; total time=   0.0s\n",
      "[CV] END .........SVC__C=10, SVC__gamma=0.1, SVC__kernel=rbf; total time=   0.0s\n",
      "[CV] END .........SVC__C=10, SVC__gamma=0.1, SVC__kernel=rbf; total time=   0.0s\n",
      "[CV] END ........SVC__C=10, SVC__gamma=0.01, SVC__kernel=rbf; total time=   0.0s\n",
      "[CV] END ........SVC__C=10, SVC__gamma=0.01, SVC__kernel=rbf; total time=   0.0s\n",
      "[CV] END ........SVC__C=10, SVC__gamma=0.01, SVC__kernel=rbf; total time=   0.0s\n",
      "[CV] END ........SVC__C=10, SVC__gamma=0.01, SVC__kernel=rbf; total time=   0.0s\n",
      "[CV] END ........SVC__C=10, SVC__gamma=0.01, SVC__kernel=rbf; total time=   0.0s\n",
      "[CV] END .......SVC__C=10, SVC__gamma=0.001, SVC__kernel=rbf; total time=   0.0s\n",
      "[CV] END .......SVC__C=10, SVC__gamma=0.001, SVC__kernel=rbf; total time=   0.0s\n",
      "[CV] END .......SVC__C=10, SVC__gamma=0.001, SVC__kernel=rbf; total time=   0.0s\n",
      "[CV] END .......SVC__C=10, SVC__gamma=0.001, SVC__kernel=rbf; total time=   0.0s\n",
      "[CV] END .......SVC__C=10, SVC__gamma=0.001, SVC__kernel=rbf; total time=   0.0s\n",
      "[CV] END ..........SVC__C=100, SVC__gamma=1, SVC__kernel=rbf; total time=   0.0s\n",
      "[CV] END ..........SVC__C=100, SVC__gamma=1, SVC__kernel=rbf; total time=   0.0s\n",
      "[CV] END ..........SVC__C=100, SVC__gamma=1, SVC__kernel=rbf; total time=   0.0s\n",
      "[CV] END ..........SVC__C=100, SVC__gamma=1, SVC__kernel=rbf; total time=   0.0s\n",
      "[CV] END ..........SVC__C=100, SVC__gamma=1, SVC__kernel=rbf; total time=   0.0s\n",
      "[CV] END ........SVC__C=100, SVC__gamma=0.1, SVC__kernel=rbf; total time=   0.0s\n",
      "[CV] END ........SVC__C=100, SVC__gamma=0.1, SVC__kernel=rbf; total time=   0.0s\n",
      "[CV] END ........SVC__C=100, SVC__gamma=0.1, SVC__kernel=rbf; total time=   0.0s\n",
      "[CV] END ........SVC__C=100, SVC__gamma=0.1, SVC__kernel=rbf; total time=   0.0s\n",
      "[CV] END ........SVC__C=100, SVC__gamma=0.1, SVC__kernel=rbf; total time=   0.0s\n",
      "[CV] END .......SVC__C=100, SVC__gamma=0.01, SVC__kernel=rbf; total time=   0.0s\n",
      "[CV] END .......SVC__C=100, SVC__gamma=0.01, SVC__kernel=rbf; total time=   0.0s\n",
      "[CV] END .......SVC__C=100, SVC__gamma=0.01, SVC__kernel=rbf; total time=   0.0s\n",
      "[CV] END .......SVC__C=100, SVC__gamma=0.01, SVC__kernel=rbf; total time=   0.0s\n",
      "[CV] END .......SVC__C=100, SVC__gamma=0.01, SVC__kernel=rbf; total time=   0.0s\n",
      "[CV] END ......SVC__C=100, SVC__gamma=0.001, SVC__kernel=rbf; total time=   0.0s\n",
      "[CV] END ......SVC__C=100, SVC__gamma=0.001, SVC__kernel=rbf; total time=   0.0s\n",
      "[CV] END ......SVC__C=100, SVC__gamma=0.001, SVC__kernel=rbf; total time=   0.0s\n",
      "[CV] END ......SVC__C=100, SVC__gamma=0.001, SVC__kernel=rbf; total time=   0.0s\n",
      "[CV] END ......SVC__C=100, SVC__gamma=0.001, SVC__kernel=rbf; total time=   0.0s\n"
     ]
    },
    {
     "data": {
      "text/html": [
       "<style>#sk-container-id-2 {color: black;background-color: white;}#sk-container-id-2 pre{padding: 0;}#sk-container-id-2 div.sk-toggleable {background-color: white;}#sk-container-id-2 label.sk-toggleable__label {cursor: pointer;display: block;width: 100%;margin-bottom: 0;padding: 0.3em;box-sizing: border-box;text-align: center;}#sk-container-id-2 label.sk-toggleable__label-arrow:before {content: \"▸\";float: left;margin-right: 0.25em;color: #696969;}#sk-container-id-2 label.sk-toggleable__label-arrow:hover:before {color: black;}#sk-container-id-2 div.sk-estimator:hover label.sk-toggleable__label-arrow:before {color: black;}#sk-container-id-2 div.sk-toggleable__content {max-height: 0;max-width: 0;overflow: hidden;text-align: left;background-color: #f0f8ff;}#sk-container-id-2 div.sk-toggleable__content pre {margin: 0.2em;color: black;border-radius: 0.25em;background-color: #f0f8ff;}#sk-container-id-2 input.sk-toggleable__control:checked~div.sk-toggleable__content {max-height: 200px;max-width: 100%;overflow: auto;}#sk-container-id-2 input.sk-toggleable__control:checked~label.sk-toggleable__label-arrow:before {content: \"▾\";}#sk-container-id-2 div.sk-estimator input.sk-toggleable__control:checked~label.sk-toggleable__label {background-color: #d4ebff;}#sk-container-id-2 div.sk-label input.sk-toggleable__control:checked~label.sk-toggleable__label {background-color: #d4ebff;}#sk-container-id-2 input.sk-hidden--visually {border: 0;clip: rect(1px 1px 1px 1px);clip: rect(1px, 1px, 1px, 1px);height: 1px;margin: -1px;overflow: hidden;padding: 0;position: absolute;width: 1px;}#sk-container-id-2 div.sk-estimator {font-family: monospace;background-color: #f0f8ff;border: 1px dotted black;border-radius: 0.25em;box-sizing: border-box;margin-bottom: 0.5em;}#sk-container-id-2 div.sk-estimator:hover {background-color: #d4ebff;}#sk-container-id-2 div.sk-parallel-item::after {content: \"\";width: 100%;border-bottom: 1px solid gray;flex-grow: 1;}#sk-container-id-2 div.sk-label:hover label.sk-toggleable__label {background-color: #d4ebff;}#sk-container-id-2 div.sk-serial::before {content: \"\";position: absolute;border-left: 1px solid gray;box-sizing: border-box;top: 0;bottom: 0;left: 50%;z-index: 0;}#sk-container-id-2 div.sk-serial {display: flex;flex-direction: column;align-items: center;background-color: white;padding-right: 0.2em;padding-left: 0.2em;position: relative;}#sk-container-id-2 div.sk-item {position: relative;z-index: 1;}#sk-container-id-2 div.sk-parallel {display: flex;align-items: stretch;justify-content: center;background-color: white;position: relative;}#sk-container-id-2 div.sk-item::before, #sk-container-id-2 div.sk-parallel-item::before {content: \"\";position: absolute;border-left: 1px solid gray;box-sizing: border-box;top: 0;bottom: 0;left: 50%;z-index: -1;}#sk-container-id-2 div.sk-parallel-item {display: flex;flex-direction: column;z-index: 1;position: relative;background-color: white;}#sk-container-id-2 div.sk-parallel-item:first-child::after {align-self: flex-end;width: 50%;}#sk-container-id-2 div.sk-parallel-item:last-child::after {align-self: flex-start;width: 50%;}#sk-container-id-2 div.sk-parallel-item:only-child::after {width: 0;}#sk-container-id-2 div.sk-dashed-wrapped {border: 1px dashed gray;margin: 0 0.4em 0.5em 0.4em;box-sizing: border-box;padding-bottom: 0.4em;background-color: white;}#sk-container-id-2 div.sk-label label {font-family: monospace;font-weight: bold;display: inline-block;line-height: 1.2em;}#sk-container-id-2 div.sk-label-container {text-align: center;}#sk-container-id-2 div.sk-container {/* jupyter's `normalize.less` sets `[hidden] { display: none; }` but bootstrap.min.css set `[hidden] { display: none !important; }` so we also need the `!important` here to be able to override the default hidden behavior on the sphinx rendered scikit-learn.org. See: https://github.com/scikit-learn/scikit-learn/issues/21755 */display: inline-block !important;position: relative;}#sk-container-id-2 div.sk-text-repr-fallback {display: none;}</style><div id=\"sk-container-id-2\" class=\"sk-top-container\"><div class=\"sk-text-repr-fallback\"><pre>GridSearchCV(cv=StratifiedKFold(n_splits=5, random_state=1, shuffle=True),\n",
       "             estimator=Pipeline(steps=[(&#x27;imputation_mean&#x27;, SimpleImputer()),\n",
       "                                       (&#x27;scaling&#x27;, StandardScaler()),\n",
       "                                       (&#x27;SVC&#x27;, SVC())]),\n",
       "             param_grid={&#x27;SVC__C&#x27;: [0.1, 1, 10, 100],\n",
       "                         &#x27;SVC__gamma&#x27;: [1, 0.1, 0.01, 0.001],\n",
       "                         &#x27;SVC__kernel&#x27;: [&#x27;rbf&#x27;]},\n",
       "             verbose=2)</pre><b>In a Jupyter environment, please rerun this cell to show the HTML representation or trust the notebook. <br />On GitHub, the HTML representation is unable to render, please try loading this page with nbviewer.org.</b></div><div class=\"sk-container\" hidden><div class=\"sk-item sk-dashed-wrapped\"><div class=\"sk-label-container\"><div class=\"sk-label sk-toggleable\"><input class=\"sk-toggleable__control sk-hidden--visually\" id=\"sk-estimator-id-5\" type=\"checkbox\" ><label for=\"sk-estimator-id-5\" class=\"sk-toggleable__label sk-toggleable__label-arrow\">GridSearchCV</label><div class=\"sk-toggleable__content\"><pre>GridSearchCV(cv=StratifiedKFold(n_splits=5, random_state=1, shuffle=True),\n",
       "             estimator=Pipeline(steps=[(&#x27;imputation_mean&#x27;, SimpleImputer()),\n",
       "                                       (&#x27;scaling&#x27;, StandardScaler()),\n",
       "                                       (&#x27;SVC&#x27;, SVC())]),\n",
       "             param_grid={&#x27;SVC__C&#x27;: [0.1, 1, 10, 100],\n",
       "                         &#x27;SVC__gamma&#x27;: [1, 0.1, 0.01, 0.001],\n",
       "                         &#x27;SVC__kernel&#x27;: [&#x27;rbf&#x27;]},\n",
       "             verbose=2)</pre></div></div></div><div class=\"sk-parallel\"><div class=\"sk-parallel-item\"><div class=\"sk-item\"><div class=\"sk-label-container\"><div class=\"sk-label sk-toggleable\"><input class=\"sk-toggleable__control sk-hidden--visually\" id=\"sk-estimator-id-6\" type=\"checkbox\" ><label for=\"sk-estimator-id-6\" class=\"sk-toggleable__label sk-toggleable__label-arrow\">estimator: Pipeline</label><div class=\"sk-toggleable__content\"><pre>Pipeline(steps=[(&#x27;imputation_mean&#x27;, SimpleImputer()),\n",
       "                (&#x27;scaling&#x27;, StandardScaler()), (&#x27;SVC&#x27;, SVC())])</pre></div></div></div><div class=\"sk-serial\"><div class=\"sk-item\"><div class=\"sk-serial\"><div class=\"sk-item\"><div class=\"sk-estimator sk-toggleable\"><input class=\"sk-toggleable__control sk-hidden--visually\" id=\"sk-estimator-id-7\" type=\"checkbox\" ><label for=\"sk-estimator-id-7\" class=\"sk-toggleable__label sk-toggleable__label-arrow\">SimpleImputer</label><div class=\"sk-toggleable__content\"><pre>SimpleImputer()</pre></div></div></div><div class=\"sk-item\"><div class=\"sk-estimator sk-toggleable\"><input class=\"sk-toggleable__control sk-hidden--visually\" id=\"sk-estimator-id-8\" type=\"checkbox\" ><label for=\"sk-estimator-id-8\" class=\"sk-toggleable__label sk-toggleable__label-arrow\">StandardScaler</label><div class=\"sk-toggleable__content\"><pre>StandardScaler()</pre></div></div></div><div class=\"sk-item\"><div class=\"sk-estimator sk-toggleable\"><input class=\"sk-toggleable__control sk-hidden--visually\" id=\"sk-estimator-id-9\" type=\"checkbox\" ><label for=\"sk-estimator-id-9\" class=\"sk-toggleable__label sk-toggleable__label-arrow\">SVC</label><div class=\"sk-toggleable__content\"><pre>SVC()</pre></div></div></div></div></div></div></div></div></div></div></div></div>"
      ],
      "text/plain": [
       "GridSearchCV(cv=StratifiedKFold(n_splits=5, random_state=1, shuffle=True),\n",
       "             estimator=Pipeline(steps=[('imputation_mean', SimpleImputer()),\n",
       "                                       ('scaling', StandardScaler()),\n",
       "                                       ('SVC', SVC())]),\n",
       "             param_grid={'SVC__C': [0.1, 1, 10, 100],\n",
       "                         'SVC__gamma': [1, 0.1, 0.01, 0.001],\n",
       "                         'SVC__kernel': ['rbf']},\n",
       "             verbose=2)"
      ]
     },
     "execution_count": 27,
     "metadata": {},
     "output_type": "execute_result"
    }
   ],
   "source": [
    "grid.fit(X_train,y_train)"
   ]
  },
  {
   "cell_type": "code",
   "execution_count": 28,
   "id": "88c13797",
   "metadata": {},
   "outputs": [],
   "source": [
    "svm_pred=grid.predict(X_test)"
   ]
  },
  {
   "cell_type": "markdown",
   "id": "087a8c02",
   "metadata": {},
   "source": [
    "## model evaluation"
   ]
  },
  {
   "cell_type": "code",
   "execution_count": 29,
   "id": "21c724fa",
   "metadata": {},
   "outputs": [
    {
     "name": "stdout",
     "output_type": "stream",
     "text": [
      "              precision    recall  f1-score   support\n",
      "\n",
      "           0       0.89      0.78      0.84       130\n",
      "           1       0.83      0.92      0.87       145\n",
      "\n",
      "    accuracy                           0.85       275\n",
      "   macro avg       0.86      0.85      0.85       275\n",
      "weighted avg       0.86      0.85      0.85       275\n",
      "\n"
     ]
    }
   ],
   "source": [
    "print(classification_report(y_test,svm_pred))"
   ]
  }
 ],
 "metadata": {
  "kernelspec": {
   "display_name": "Python 3 (ipykernel)",
   "language": "python",
   "name": "python3"
  },
  "language_info": {
   "codemirror_mode": {
    "name": "ipython",
    "version": 3
   },
   "file_extension": ".py",
   "mimetype": "text/x-python",
   "name": "python",
   "nbconvert_exporter": "python",
   "pygments_lexer": "ipython3",
   "version": "3.9.7"
  }
 },
 "nbformat": 4,
 "nbformat_minor": 5
}
